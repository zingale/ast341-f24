{
 "cells": [
  {
   "cell_type": "markdown",
   "id": "e33a3030-b96e-4e95-a7b8-19cf4bfd9f93",
   "metadata": {},
   "source": [
    "# Homework #7 MESA models"
   ]
  },
  {
   "cell_type": "code",
   "execution_count": 1,
   "id": "af05948e-5734-41d7-a41a-8b3384262e82",
   "metadata": {},
   "outputs": [],
   "source": [
    "import numpy as np\n",
    "import matplotlib.pyplot as plt"
   ]
  },
  {
   "cell_type": "markdown",
   "id": "9a60f310-a176-4aa4-8765-327eb5ea7ba5",
   "metadata": {},
   "source": [
    "We'll make some a class to store the data from the model files.  "
   ]
  },
  {
   "cell_type": "code",
   "execution_count": 2,
   "id": "c751394c-1c92-4904-b368-ce8a56554eac",
   "metadata": {},
   "outputs": [],
   "source": [
    "class Profile:\n",
    "    def __init__(self, pfile):\n",
    "        p = np.loadtxt(pfile)\n",
    "        self.r = p[:,0]\n",
    "        self.m = p[:,1]\n",
    "        self.rho = p[:,2]\n",
    "        self.T = p[:,3]\n",
    "        self.P = p[:,4]\n",
    "        self.mu = p[:,5]\n",
    "        self.mu_e = p[:,6]\n",
    "        self.L = p[:,7]\n",
    "        self.X = p[:,8]\n",
    "        self.Y = p[:,9]\n",
    "        self.grad_a = p[:,10]\n",
    "        self.grad_T = p[:,11]\n",
    "        self.q = p[:,12]\n",
    "        \n",
    "        # the age is specified on the first line\n",
    "        with open(pfile) as pf:\n",
    "            line = pf.readline()\n",
    "            self.age = line.split(\"=\")[-1].split()[0]"
   ]
  },
  {
   "cell_type": "markdown",
   "id": "c6319060-38fe-46e7-9414-2c0727ac6cc1",
   "metadata": {},
   "source": [
    "Fundamental constants"
   ]
  },
  {
   "cell_type": "code",
   "execution_count": 3,
   "id": "6328f0c0-9770-431b-b325-a46a39dd355a",
   "metadata": {},
   "outputs": [],
   "source": [
    "# CGS constants\n",
    "k_B = 1.38e-16\n",
    "m_u = 1.66e-24\n",
    "m_e = 9.11e-28\n",
    "c = 3.e10\n",
    "h = 6.63e-27\n",
    "a = 5.67e-15"
   ]
  },
  {
   "cell_type": "markdown",
   "id": "d9dfcda2-66d4-41ea-83eb-dfba185b9a58",
   "metadata": {},
   "source": [
    "## 1. the solar convection zone"
   ]
  },
  {
   "cell_type": "markdown",
   "id": "60ec4f9a-15e3-4ff0-89b2-9a6b00d18b7a",
   "metadata": {},
   "source": [
    "In our homework, we found the convective zone temperature structure is approximately:\n",
    "\n",
    "$$T(r) = T_\\mathrm{base} - \\left ( 1 - \\frac{1}{\\gamma} \\right ) \\frac{\\mu m_u GM_\\odot}{k} \\left (\\frac{1}{R_\\mathrm{base}} - \\frac{1}{r}\\right )$$\n",
    "\n",
    "Here we'll compare this to the MESA model for the $1~M_\\odot$ star."
   ]
  },
  {
   "cell_type": "code",
   "execution_count": 4,
   "id": "2caf7b1a-f8d4-437a-8ddb-8789aa56b37b",
   "metadata": {},
   "outputs": [],
   "source": [
    "# constants in CGS\n",
    "m_u = 1.66e-24\n",
    "G = 6.68e-8\n",
    "k = 1.38e-16\n",
    "M_sun = 2.e33\n",
    "R_sun = 7.e10"
   ]
  },
  {
   "cell_type": "markdown",
   "id": "b77d5f0c-16a4-4834-8dd7-c14af942b673",
   "metadata": {},
   "source": [
    "First we read in the data"
   ]
  },
  {
   "cell_type": "code",
   "execution_count": 5,
   "id": "5ce8e464-cbad-45dd-8329-143125c0d87f",
   "metadata": {},
   "outputs": [],
   "source": [
    "p = Profile(\"M1.0_profile_H_simple.out\")"
   ]
  },
  {
   "cell_type": "markdown",
   "id": "c66ec962-bd38-4b0d-8e84-27bfae330a99",
   "metadata": {},
   "source": [
    "I'll find the radius as the first zone (from the center) where the adiabatic excess, $\\nabla - \\nabla_\\mathrm{ad}$ gets close to 0"
   ]
  },
  {
   "cell_type": "code",
   "execution_count": 6,
   "id": "6a313f29-69d6-4daf-92c9-78a9b9a3188e",
   "metadata": {},
   "outputs": [],
   "source": [
    "idx = np.where(np.abs(p.grad_T - p.grad_a) <= 1.e-3)[0][0]"
   ]
  },
  {
   "cell_type": "markdown",
   "id": "a5613582-95bc-41aa-a537-0563aab57554",
   "metadata": {},
   "source": [
    "and we can get the temperature and radius there"
   ]
  },
  {
   "cell_type": "code",
   "execution_count": 7,
   "id": "1275663d-0055-45f8-bc98-8be6c5dcedf4",
   "metadata": {},
   "outputs": [],
   "source": [
    "T_base = p.T[idx]\n",
    "R_base = p.r[idx] * R_sun"
   ]
  },
  {
   "cell_type": "markdown",
   "id": "9658990e-7d5b-462c-81e3-7d172464408b",
   "metadata": {},
   "source": [
    "Here's our analytic function to plot"
   ]
  },
  {
   "cell_type": "code",
   "execution_count": 8,
   "id": "111bcd46-ab3a-44e3-aa1c-6613b1aca2fa",
   "metadata": {},
   "outputs": [],
   "source": [
    "def T(r):\n",
    "    gamma = 5./3.\n",
    "    mu = 0.6\n",
    "    return T_base - (1.0 - 1.0 / gamma) * mu * m_u * G * M_sun / k * (1/R_base - 1/r)"
   ]
  },
  {
   "cell_type": "markdown",
   "id": "babb235e-6e7d-4ff9-a18f-f1c91ca1aade",
   "metadata": {},
   "source": [
    "and now we can plot the data and the analytic comparison"
   ]
  },
  {
   "cell_type": "code",
   "execution_count": 9,
   "id": "35b076b1-f294-4711-a4bd-5c3fb14405fe",
   "metadata": {},
   "outputs": [
    {
     "data": {
      "image/png": "[encoded data removed]",
      "text/plain": [
       "<Figure size 640x480 with 1 Axes>"
      ]
     },
     "metadata": {},
     "output_type": "display_data"
    }
   ],
   "source": [
    "fig, ax = plt.subplots()\n",
    "ax.plot(p.r * R_sun, p.T)\n",
    "ax.plot(p.r * R_sun, T(p.r * R_sun))\n",
    "ax.set_xlim(left=R_base)\n",
    "ax.set_ylim(1.e4, 1.e7)\n",
    "ax.set_yscale(\"log\")\n",
    "ax.grid()"
   ]
  },
  {
   "cell_type": "markdown",
   "id": "46f9b464-4d3a-4ab7-a892-5d66f29629d5",
   "metadata": {},
   "source": [
    "Notice that the temperature structure compares quite well until we reach the surface of the star."
   ]
  },
  {
   "cell_type": "markdown",
   "id": "a6b0649b-6a3c-4d37-946a-3b5dab00b1c9",
   "metadata": {},
   "source": [
    "## 2. fully-convective polytrope"
   ]
  },
  {
   "cell_type": "markdown",
   "id": "580c1e37-ab64-46a2-9bd4-d2c150f0e532",
   "metadata": {},
   "source": [
    "We want to compare a fully-convective polytrope to our MESA model for the  $0.3~M_\\odot$ star.\n",
    "\n",
    "We know that:\n",
    "\n",
    "$$P = K \\rho^{\\gamma_a} = \\frac{\\rho k T}{\\mu m_u}$$\n",
    "\n",
    "so we can find that \n",
    "\n",
    "$$T = \\frac{K \\rho^{\\gamma_a - 1} \\mu m_u}{k}$$\n",
    "\n",
    "and for our star, $\\gamma_a = 5/3$.\n",
    "\n",
    "We'll take the value of $K$ we found in homework 5."
   ]
  },
  {
   "cell_type": "code",
   "execution_count": 10,
   "id": "491400ea-9a43-410e-bb80-7cdb0f54c6af",
   "metadata": {},
   "outputs": [],
   "source": [
    "p = Profile(\"M0.3_profile_H_simple.out\")"
   ]
  },
  {
   "cell_type": "code",
   "execution_count": 11,
   "id": "247ae560-8c0a-42db-bc1a-eca950c6dfe1",
   "metadata": {},
   "outputs": [],
   "source": [
    "K = 3.4e13\n",
    "gamma_a = 5./3."
   ]
  },
  {
   "cell_type": "markdown",
   "id": "b84baefd-da2f-4641-bf94-baf89b13e96c",
   "metadata": {},
   "source": [
    "We'll take $\\mu$ as the value in the center of our model"
   ]
  },
  {
   "cell_type": "code",
   "execution_count": 12,
   "id": "2117ae7a-0187-4dc9-9725-4f5beb9ad9a8",
   "metadata": {},
   "outputs": [],
   "source": [
    "mu = p.mu[0]"
   ]
  },
  {
   "cell_type": "code",
   "execution_count": 13,
   "id": "b345d383-2e96-4afa-b612-4b19a43b6f1d",
   "metadata": {},
   "outputs": [
    {
     "data": {
      "image/png": "[encoded data removed]",
      "text/plain": [
       "<Figure size 640x480 with 1 Axes>"
      ]
     },
     "metadata": {},
     "output_type": "display_data"
    }
   ],
   "source": [
    "fig, ax = plt.subplots()\n",
    "ax.loglog(p.rho, p.T)\n",
    "\n",
    "rho = np.logspace(-4, 2, 100)\n",
    "T_poly = K * rho**(gamma_a - 1) * mu * m_u / k_B\n",
    "\n",
    "ax.loglog(rho, T_poly)\n",
    "ax.set_xlabel(r\"$\\rho~ \\mathrm{(g~cm^{-3})}$\")\n",
    "ax.set_ylabel(r\"$T~\\mathrm{(K)}$\")\n",
    "ax.grid()"
   ]
  },
  {
   "cell_type": "markdown",
   "id": "24d8afb9-16d0-4f4a-9605-c1c0b0747c45",
   "metadata": {},
   "source": [
    "We see that for much of the star (until we near the surface) the trend of the polytrope model is very close to the trend from the MESA star."
   ]
  }
 ],
 "metadata": {
  "kernelspec": {
   "display_name": "Python 3 (ipykernel)",
   "language": "python",
   "name": "python3"
  },
  "language_info": {
   "codemirror_mode": {
    "name": "ipython",
    "version": 3
   },
   "file_extension": ".py",
   "mimetype": "text/x-python",
   "name": "python",
   "nbconvert_exporter": "python",
   "pygments_lexer": "ipython3",
   "version": "3.12.7"
  }
 },
 "nbformat": 4,
 "nbformat_minor": 5
}
