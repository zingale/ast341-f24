{
 "cells": [
  {
   "cell_type": "markdown",
   "id": "c4f3f649-ba2b-49c1-aee8-928810273ea8",
   "metadata": {},
   "source": [
    "# Neutron star structure"
   ]
  },
  {
   "cell_type": "markdown",
   "id": "db046dc4-39f7-4602-970d-e71cdc897aca",
   "metadata": {},
   "source": [
    "We'll investigate neutron star structure by consider both the standard hydrostatic equilibrium:\n",
    "\n",
    "$$\\frac{dP}{dr} = - \\frac{G M(r)}{r^2}$$\n",
    "\n",
    "and the general relativistic [Tolman-Oppenheimer-Volkoff equation](https://en.wikipedia.org/wiki/Tolman%E2%80%93Oppenheimer%E2%80%93Volkoff_equation):\n",
    "\n",
    "$$\\frac{dP}{dr} = -\\frac{G}{r^2} \\left (\\rho + \\frac{P}{c^2}\\right )\n",
    "    \\left ( M(r) + \\frac{4\\pi r^3 P}{c^2} \\right ) \\left (1 - \\frac{2 GM(r)}{rc^2} \\right )^{-1}$$\n",
    "    \n",
    "In both cases, $M(r)$ satisties:\n",
    "\n",
    "$$\\frac{dM}{dr} = 4\\pi r^2 \\rho$$"
   ]
  },
  {
   "cell_type": "code",
   "execution_count": 1,
   "id": "7c3497c5-aad1-4ccd-a04a-bddc3ba82c37",
   "metadata": {
    "tags": []
   },
   "outputs": [],
   "source": [
    "import numpy as np\n",
    "import matplotlib.pyplot as plt"
   ]
  },
  {
   "cell_type": "markdown",
   "id": "63642d67-01bf-406e-a92d-3a7dfc17cc24",
   "metadata": {},
   "source": [
    "Here's a general integration class that implemented 4th order Runge-Kutta.  It takes\n",
    "a `rhs` function of the form:\n",
    "\n",
    "```\n",
    "rhs(r, Y, rho_func)\n",
    "```\n",
    "\n",
    "that returns the derivatives $d{\\bf Y}/dr$ for each of the variables in the array ${\\bf Y}$.\n",
    "Here, `rho_func` is a function `rho_func(pres)` that takes the pressure and returns the\n",
    "density according to our EOS.\n",
    "\n",
    "It can also take a list of stopping criteria for each variable, so we end the integration\n",
    "when we reach the edge of the star.  The integration step is fixed, until we hit the stopping\n",
    "criteria.  Then it cuts dx by factors of 2 until we meet our tolerance at the stopping point."
   ]
  },
  {
   "cell_type": "code",
   "execution_count": 2,
   "id": "4e6ccf05-341e-4654-b1f4-76a424e27ee1",
   "metadata": {
    "tags": []
   },
   "outputs": [],
   "source": [
    "class Integrator:\n",
    "    \"\"\" this is a simple RK4 integrator with a uniform step size\n",
    "    that can accept a list of stopping criteria to halt the integration.\n",
    "\n",
    "    There is one list element for each variable.  An entry of \"None\"\n",
    "    means that we have no stopping criteria for that variable.  A tuple\n",
    "    of the form (\"LT\", val) or (\"GT\", val), means that we stop if\n",
    "    y[n] < val (or y[n] > val)\n",
    "    \"\"\"\n",
    "\n",
    "    def __init__(self, rhs, *, stop_cond=None, rhs_args=None):\n",
    "        self.rhs = rhs\n",
    "        self.stop_cond = stop_cond\n",
    "        if rhs_args is None:\n",
    "            rhs_args = []\n",
    "        self.args = rhs_args\n",
    "\n",
    "    def rk4_step(self, x, y, dx):\n",
    "\n",
    "        dydx1 = self.rhs(x, y, *self.args)\n",
    "        y1 = y + 0.5*dx*dydx1\n",
    "        if self.check_stop_cond(y1) < 0: return None\n",
    "\n",
    "        dydx2 = self.rhs(x + 0.5*dx, y1, *self.args)\n",
    "        y2 = y + 0.5*dx*dydx2\n",
    "        if self.check_stop_cond(y2) < 0: return None\n",
    "\n",
    "        dydx3 = self.rhs(x + 0.5*dx, y2, *self.args)\n",
    "        y3 = y + dx*dydx3\n",
    "        if self.check_stop_cond(y3) < 0: return None\n",
    "\n",
    "        dydx4 = self.rhs(x + dx, y3, *self.args)\n",
    "\n",
    "        y_final = y + (dx/6.0)*(dydx1 + 2.0*dydx2 + 2.0*dydx3 + dydx4)\n",
    "        if self.check_stop_cond(y_final) < 0: return None\n",
    "\n",
    "        return y_final\n",
    "\n",
    "    def check_stop_cond(self, y):\n",
    "        # check our stopping conditions\n",
    "        if not self.stop_cond is None:\n",
    "            for n, cond in enumerate(self.stop_cond):\n",
    "                if cond is None: continue\n",
    "                c, v = cond\n",
    "                if c == \"LT\":\n",
    "                    if y[n] < v: return -1\n",
    "                elif c == \"GT\":\n",
    "                    if ynew[n] > v: return -1\n",
    "                else:\n",
    "                    sys.exit(\"invalid condition\")\n",
    "\n",
    "        return 0\n",
    "\n",
    "    def integrate(self, initial_conditions, dx, xmax, tol=1.e-8):\n",
    "        ic = np.array(initial_conditions)\n",
    "        N = len(ic)\n",
    "        sol = {}\n",
    "        for n in range(N):\n",
    "            sol[f\"y{n}\"] = [ic[n]]\n",
    "\n",
    "        x = 0.0\n",
    "        sol[\"x\"] = [x]\n",
    "\n",
    "        y = initial_conditions\n",
    "        \n",
    "        while (x < xmax and dx > tol * xmax):\n",
    "            # advance for a step\n",
    "            ynew = self.rk4_step(x, y, dx)\n",
    "\n",
    "            if ynew is None:\n",
    "                # we hit our stopping condition\n",
    "                # cut the stepsize so we can try to get closer\n",
    "                dx /= 2\n",
    "                continue\n",
    "\n",
    "            # store the solution\n",
    "            x += dx\n",
    "            sol[\"x\"].append(x)\n",
    "            for n in range(N):\n",
    "                sol[f\"y{n}\"].append(ynew[n])\n",
    "\n",
    "            y = ynew\n",
    "\n",
    "        return sol"
   ]
  },
  {
   "cell_type": "markdown",
   "id": "e2d9d01c-dc15-4ceb-b5ad-284078309eb2",
   "metadata": {
    "tags": []
   },
   "source": [
    "For the both HSE and TOV, we integrate\n",
    "\n",
    "$${\\bf Y} = \\left ( \\begin{array}{c} m \\\\ P \\end{array} \\right )$$\n",
    "\n",
    "All of our units will be in CGS."
   ]
  },
  {
   "cell_type": "markdown",
   "id": "38fd65d9-3d15-4567-bcf1-5dfcf255f55f",
   "metadata": {},
   "source": [
    "Some physical constants (CGS)"
   ]
  },
  {
   "cell_type": "code",
   "execution_count": 3,
   "id": "f3707f5f-f7db-4a7d-8ea9-4ab52b7cdb89",
   "metadata": {
    "tags": []
   },
   "outputs": [],
   "source": [
    "G = 6.67e-8\n",
    "c = 3.e10\n",
    "h = 6.63e-27\n",
    "m_u = 1.66e-24"
   ]
  },
  {
   "cell_type": "markdown",
   "id": "71e34ef6-af2d-4355-83f8-6497a6180b5e",
   "metadata": {},
   "source": [
    "Here's the righthand side function for the TOV equation"
   ]
  },
  {
   "cell_type": "code",
   "execution_count": 4,
   "id": "17c90eb1-73a0-4e6f-9e25-4ba7484b2b19",
   "metadata": {
    "tags": []
   },
   "outputs": [],
   "source": [
    "def rhs_tov(r, y, rho_func):\n",
    "    m = y[0]\n",
    "    P = y[1]\n",
    "\n",
    "    rho = rho_func(P)\n",
    "    \n",
    "    dmdr = 4.0 * np.pi * r**2 * rho\n",
    "        \n",
    "    if r == 0.0:\n",
    "        dPdr = 0.0\n",
    "    else:\n",
    "        rho_term = rho + P / c**2\n",
    "        m_term = m + 4.0 * np.pi * r**3 * P / c**2\n",
    "        metric_term = (1.0 - 2.0 * G * m / (r * c**2))\n",
    "        dPdr = -(G / r**2) * rho_term * m_term / metric_term\n",
    "\n",
    "    return np.array([dmdr, dPdr])"
   ]
  },
  {
   "cell_type": "markdown",
   "id": "4cdd28fc-d43a-4d3b-8b88-400fa80b5fc7",
   "metadata": {},
   "source": [
    "Here's the righthand side function for Newtonian HSE"
   ]
  },
  {
   "cell_type": "code",
   "execution_count": 5,
   "id": "af17959d-a3ac-459b-83b9-8e000c4eefc8",
   "metadata": {
    "tags": []
   },
   "outputs": [],
   "source": [
    "def rhs_newton(r, y, rho_func):\n",
    "    m = y[0]\n",
    "    P = y[1]\n",
    "\n",
    "    rho = rho_func(P)\n",
    "    \n",
    "    dmdr = 4.0 * np.pi * r**2 * rho\n",
    "    \n",
    "    if r == 0.0:\n",
    "        dPdr = 0.0\n",
    "    else:\n",
    "        dPdr = -G * m / r**2 * rho\n",
    "        \n",
    "    return np.array([dmdr, dPdr])"
   ]
  },
  {
   "cell_type": "markdown",
   "id": "6f47a033-6df3-439a-b85a-8d879c0e1221",
   "metadata": {},
   "source": [
    "## Degenerate neutrons"
   ]
  },
  {
   "cell_type": "markdown",
   "id": "9bca8782-e071-4830-a67d-22d9bbe6b11f",
   "metadata": {},
   "source": [
    "For zero-T neutron degeneracy, the number density of neutrons is just the integral of the distribution function, $n(p)$, over all momenta:\n",
    "\n",
    "$$n = \\int n(p) d^3 p = 4\\pi \\int_0^\\infty n(p) p^2 dp$$\n",
    "\n",
    "but at zero temperature the distribution function is just a step function:\n",
    "\n",
    "$$n(p) = \\frac{2}{h^3}\\left \\{ \\begin{array}{cc} 1 & \\mbox{if } p < p_F \\\\\n",
    "                                    0 & \\mbox{otherwise} \\end{array}\\right .$$\n",
    "                                    \n",
    "This gives:\n",
    "\n",
    "$$n = \\frac{\\rho}{m_u} = \\frac{8\\pi}{3h^3} p_F^3 = \\frac{8\\pi}{3} \\left (\\frac{m_u c}{h} \\right )^3 x_F^3$$\n",
    "\n",
    "where $x_F = p_F / (m_u c)$.\n",
    "\n",
    "We can then compute the pressure as:\n",
    "\n",
    "$$P = \\frac{1}{3} \\int n(p) v p d^3 p$$\n",
    "\n",
    "where we now need to use the general expression for velocity, \n",
    "\n",
    "$$v = \\frac{p}{m_u} \\left [ 1 + \\left ( \\frac{p}{m_u c} \\right)^2 \\right ]^{-1/2}$$\n",
    "\n",
    "This gives:\n",
    "\n",
    "$$P = \\frac{\\pi}{3} \\left ( \\frac{m_u c}{h} \\right )^3 m_u c^2 f(x)$$\n",
    "\n",
    "with\n",
    "\n",
    "$$f(x) = x (2x^2 - 3) (1 + x^2)^{1/2} + 3 \\sinh^{-1}(x)$$"
   ]
  },
  {
   "cell_type": "code",
   "execution_count": 6,
   "id": "8af73902-a609-4d86-a5ad-77b3a7e85d89",
   "metadata": {
    "tags": []
   },
   "outputs": [],
   "source": [
    "from scipy.optimize import brentq\n",
    "\n",
    "def pres_deg(rho):\n",
    "    # compute the Fermi momentum x = p / mc\n",
    "    B = 8 * np.pi * m_u / 3.0 * (m_u * c / h)**3\n",
    "    x = np.cbrt(rho / B)\n",
    "    \n",
    "    f = x * (2 * x**2 - 3) * np.sqrt(1 + x**2) + 3 * np.arcsinh(x)\n",
    "    A = (np.pi / 3) * (m_u * c / h)**3 * m_u * c**2\n",
    "    \n",
    "    return A * f\n",
    "    \n",
    "def rho_deg(pres):\n",
    "    \n",
    "    A = (np.pi / 3) * (m_u * c / h)**3 * m_u * c**2\n",
    "    f = pres / A\n",
    "    \n",
    "    # find the x that gives us this f\n",
    "    x = brentq(lambda x: f - (x * (2 * x**2 - 3) * np.sqrt(1 + x**2) + 3 * np.arcsinh(x)), 0, 10)\n",
    "    \n",
    "    B = 8 * np.pi * m_u / 3.0 * (m_u * c / h)**3\n",
    "    return B * x**3 "
   ]
  },
  {
   "cell_type": "markdown",
   "id": "c0938969-6d11-4eec-bded-7d20b920036c",
   "metadata": {},
   "source": [
    "## A polytropic nuclear EOS\n",
    "\n",
    "A simple polytopic approximation to a nuclear equation of state (the SLy4 EOS) is:\n",
    "\n",
    "\n",
    "$$P = K \\left ( \\frac{\\rho}{\\rho_0} \\right )^\\gamma$$\n",
    "\n",
    "If we choose $K = 3.5 \\mathrm{MeV~fm^{-3}}$ and $\\rho_0 = 150 \\mathrm{MeV~fm^{-3}}$, we approximate the behavior of the SLy4 nuclear EOS (thanks to Tianqi Zhao for these approximations) with $\\gamma = 2.5$.\n",
    "\n",
    "In CGS units, using $\\gamma = 2.5$, we can take $K = 4.80\\times 10^{-3}~\\mathrm{erg~cm^{-3}}$ and write this as:\n",
    "\n",
    "$$P = K \\rho^\\gamma$$\n"
   ]
  },
  {
   "cell_type": "code",
   "execution_count": 7,
   "id": "3b7d0709-401a-4fb0-a68e-97c172e53e0a",
   "metadata": {
    "tags": []
   },
   "outputs": [],
   "source": [
    "def pres_nuc(rho):\n",
    "    gamma = 2.5\n",
    "    K = 4.8e-3\n",
    "    \n",
    "    return K * rho**gamma\n",
    "\n",
    "def rho_nuc(pres):\n",
    "    gamma = 2.5\n",
    "    K = 4.8e-3\n",
    "    \n",
    "    return (pres / K)**(1.0 / gamma)"
   ]
  },
  {
   "cell_type": "markdown",
   "id": "66a91972-a6e7-4006-be6b-9510bf4a222b",
   "metadata": {},
   "source": [
    "## Case I: Newtonian gravity, neutron degeneracy"
   ]
  },
  {
   "cell_type": "markdown",
   "id": "c3fc0793-9059-4c8a-9123-5cd44baa0989",
   "metadata": {},
   "source": [
    "We'll loop over the central density and integrate the neutron star structure and store the mass and radius corresponding to each central density."
   ]
  },
  {
   "cell_type": "code",
   "execution_count": 8,
   "id": "98711d1e-7b9b-43f8-9286-aebce6104c1f",
   "metadata": {
    "tags": []
   },
   "outputs": [],
   "source": [
    "ns1 = Integrator(rhs_newton, rhs_args=[rho_deg],\n",
    "                 stop_cond=[(\"LT\", 0.0), (\"LT\", 0.0)])\n",
    "\n",
    "R_max = 5.e6\n",
    "N = 1000\n",
    "\n",
    "mass = []\n",
    "radius = []\n",
    "\n",
    "for rhoc in np.logspace(np.log10(5.e14), np.log10(5.e16), 100):\n",
    "    \n",
    "    Pc = pres_deg(rhoc)\n",
    "    \n",
    "    sol = ns1.integrate([0.0, Pc], R_max/N, R_max)\n",
    "    \n",
    "    mass.append(sol[\"y0\"][-1]/2.e33)\n",
    "    radius.append(sol[\"x\"][-1]/1.e5)"
   ]
  },
  {
   "cell_type": "code",
   "execution_count": 9,
   "id": "934082a1-2cf8-42ae-8344-b6d045b8f90b",
   "metadata": {
    "tags": []
   },
   "outputs": [
    {
     "name": "stderr",
     "output_type": "stream",
     "text": [
      "<>:5: SyntaxWarning: invalid escape sequence '\\o'\n",
      "<>:5: SyntaxWarning: invalid escape sequence '\\o'\n",
      "/tmp/ipykernel_1246237/1020375860.py:5: SyntaxWarning: invalid escape sequence '\\o'\n",
      "  ax.set_ylabel(\"$M$ [$M_\\odot$]\")\n"
     ]
    },
    {
     "data": {
      "text/plain": [
       "Text(0, 0.5, '$M$ [$M_\\\\odot$]')"
      ]
     },
     "execution_count": 9,
     "metadata": {},
     "output_type": "execute_result"
    },
    {
     "data": {
      "image/png": "[encoded data removed]",
      "text/plain": [
       "<Figure size 640x480 with 1 Axes>"
      ]
     },
     "metadata": {},
     "output_type": "display_data"
    }
   ],
   "source": [
    "fig, ax = plt.subplots()\n",
    "\n",
    "ax.plot(radius, mass)\n",
    "ax.set_xlabel(\"$R$ [km]\")\n",
    "ax.set_ylabel(\"$M$ [$M_\\odot$]\")"
   ]
  },
  {
   "cell_type": "markdown",
   "id": "3438f6c6-af3e-4334-91d3-915b78786be7",
   "metadata": {},
   "source": [
    "Here we see a curve reminiscient of the white dwarf mass-radius relation.  This is not physical since we've neglected GR and the nuclear interactions."
   ]
  },
  {
   "cell_type": "markdown",
   "id": "c5fc3356-8cb2-4197-b8fc-118d2f83431c",
   "metadata": {},
   "source": [
    "What happens if we take $\\rho \\rightarrow \\infty$?  We should get the neutron star version of the\n",
    "Chandrasekhar mass:\n",
    "\n",
    "$$M_\\mathrm{Ch} = 1.44 \\left ( \\frac{2}{\\mu} \\right )^2 M_\\odot$$\n",
    "\n",
    "For electrons, the $\\mu$ was $\\mu_e$, but now it is just $\\mu = 1$ for neutrons, giving a mass of\n",
    "$M_\\mathrm{Ch} \\sim 5.76~ M_\\odot$"
   ]
  },
  {
   "cell_type": "code",
   "execution_count": 10,
   "id": "a9e3b227-5840-4046-b0e8-305ffa0c6f72",
   "metadata": {
    "tags": []
   },
   "outputs": [
    {
     "data": {
      "text/plain": [
       "Text(0, 0.5, '$M$ [$M_\\\\odot$]')"
      ]
     },
     "execution_count": 10,
     "metadata": {},
     "output_type": "execute_result"
    },
    {
     "data": {
      "image/png": "[encoded data removed]",
      "text/plain": [
       "<Figure size 640x480 with 1 Axes>"
      ]
     },
     "metadata": {},
     "output_type": "display_data"
    }
   ],
   "source": [
    "ns1 = Integrator(rhs_newton, rhs_args=[rho_deg],\n",
    "                 stop_cond=[(\"LT\", 0.0), (\"LT\", 0.0)])\n",
    "\n",
    "R_max = 5.e6\n",
    "N = 1000\n",
    "\n",
    "mass = []\n",
    "radius = []\n",
    "\n",
    "for rhoc in np.logspace(np.log10(5.e14), np.log10(5.e18), 100):\n",
    "    \n",
    "    Pc = pres_deg(rhoc)\n",
    "    \n",
    "    sol = ns1.integrate([0.0, Pc], R_max/N, R_max)\n",
    "    \n",
    "    mass.append(sol[\"y0\"][-1]/2.e33)\n",
    "    radius.append(sol[\"x\"][-1]/1.e5)\n",
    "    \n",
    "fig, ax = plt.subplots()\n",
    "\n",
    "ax.plot(radius, mass)\n",
    "ax.set_xlabel(\"$R$ [km]\")\n",
    "ax.set_ylabel(r\"$M$ [$M_\\odot$]\")"
   ]
  },
  {
   "cell_type": "markdown",
   "id": "d373402d-7a90-4b4c-b519-0ae22b9e5140",
   "metadata": {},
   "source": [
    "We see that we are approaching that maximum mas as $R \\rightarrow 0$, as expected."
   ]
  },
  {
   "cell_type": "markdown",
   "id": "7cf0822f-72f5-494b-89fc-3a2817599575",
   "metadata": {
    "tags": []
   },
   "source": [
    "## Case II: GR gravity + degenerate EOS"
   ]
  },
  {
   "cell_type": "code",
   "execution_count": 11,
   "id": "001f0560-95b8-4189-b0b1-d1a32c7f86b3",
   "metadata": {
    "tags": []
   },
   "outputs": [],
   "source": [
    "ns2 = Integrator(rhs_tov, rhs_args=[rho_deg],\n",
    "                 stop_cond=[(\"LT\", 0.0), (\"LT\", 0.0)])\n",
    "\n",
    "R_max = 5.e6\n",
    "N = 1000\n",
    "\n",
    "# my vector is [m, p]\n",
    "mass = []\n",
    "radius = []\n",
    "for rhoc in np.logspace(np.log10(5.e14), np.log10(5.e16), 100):\n",
    "\n",
    "    Pc = pres_deg(rhoc)\n",
    "\n",
    "    sol = ns2.integrate([0.0, Pc], R_max/N, R_max)\n",
    "\n",
    "    mass.append(sol[\"y0\"][-1]/2.e33)\n",
    "    radius.append(sol[\"x\"][-1]/1.e5)"
   ]
  },
  {
   "cell_type": "code",
   "execution_count": 12,
   "id": "afec6279-8090-4325-80fd-3a068a4ef4bf",
   "metadata": {
    "tags": []
   },
   "outputs": [
    {
     "data": {
      "text/plain": [
       "Text(0, 0.5, '$M$ [$M_\\\\odot$]')"
      ]
     },
     "execution_count": 12,
     "metadata": {},
     "output_type": "execute_result"
    },
    {
     "data": {
      "image/png": "[encoded data removed]",
      "text/plain": [
       "<Figure size 640x480 with 1 Axes>"
      ]
     },
     "metadata": {},
     "output_type": "display_data"
    }
   ],
   "source": [
    "fig, ax = plt.subplots()\n",
    "\n",
    "ax.plot(radius, mass)\n",
    "ax.set_xlabel(\"$R$ [km]\")\n",
    "ax.set_ylabel(r\"$M$ [$M_\\odot$]\")"
   ]
  },
  {
   "cell_type": "markdown",
   "id": "6a7b60bf-e49f-4214-a9ea-969a5dccd3e7",
   "metadata": {},
   "source": [
    "Now, adding GR, we see that there is a maximum mass for the neutron star, but it is quite low."
   ]
  },
  {
   "cell_type": "markdown",
   "id": "a7948bd5-019b-4233-882b-aad6e08f1eec",
   "metadata": {},
   "source": [
    "## Case III: GR gravity + nuclear EOS\n"
   ]
  },
  {
   "cell_type": "code",
   "execution_count": 13,
   "id": "620ee62e-7fd0-4451-afa7-dbe2f8a856bd",
   "metadata": {
    "tags": []
   },
   "outputs": [],
   "source": [
    "ns3 = Integrator(rhs_tov, rhs_args=[rho_nuc],\n",
    "                 stop_cond=[(\"LT\", 0.0), (\"LT\", 0.0)])\n",
    "\n",
    "R_max = 5.e6\n",
    "N = 1000\n",
    "\n",
    "# my vector is [m, p]\n",
    "mass = []\n",
    "radius = []\n",
    "for rhoc in np.logspace(np.log10(5.e14), np.log10(5.e16), 100):\n",
    "\n",
    "    Pc = pres_nuc(rhoc)\n",
    "\n",
    "    sol = ns3.integrate([0.0, Pc], R_max/N, R_max)\n",
    "\n",
    "    mass.append(sol[\"y0\"][-1]/2.e33)\n",
    "    radius.append(sol[\"x\"][-1]/1.e5)"
   ]
  },
  {
   "cell_type": "code",
   "execution_count": 14,
   "id": "ede32774-56a2-46c0-91f4-46948f24705b",
   "metadata": {
    "tags": []
   },
   "outputs": [
    {
     "data": {
      "text/plain": [
       "Text(0, 0.5, '$M$ [$M_\\\\odot$]')"
      ]
     },
     "execution_count": 14,
     "metadata": {},
     "output_type": "execute_result"
    },
    {
     "data": {
      "image/png": "[encoded data removed]",
      "text/plain": [
       "<Figure size 640x480 with 1 Axes>"
      ]
     },
     "metadata": {},
     "output_type": "display_data"
    }
   ],
   "source": [
    "fig, ax = plt.subplots()\n",
    "\n",
    "ax.plot(radius, mass)\n",
    "ax.set_xlabel(\"$R$ [km]\")\n",
    "ax.set_ylabel(r\"$M$ [$M_\\odot$]\")"
   ]
  },
  {
   "cell_type": "markdown",
   "id": "61ace2fd-8624-480d-8105-6d684fcb650c",
   "metadata": {
    "tags": []
   },
   "source": [
    "In this final case, we get a much more reasonable maximum neutron star mass.  We also see that\n",
    "for some values of radius there are multiple masses (the M-R relation is double-valued) -- this is okay.\n",
    "However, at the very highest central densities, we get a smaller mass than the maximum at a smaller radius -- that is not physical, and is dynamically unstable."
   ]
  },
  {
   "cell_type": "markdown",
   "id": "0fc2317b-69ec-45ee-babc-2b427e63b062",
   "metadata": {},
   "source": [
    "## Case IV: Blended EOS\n",
    "\n",
    "Let's now try an EOS that is stiff at the center but transitions to the non-relativisitic neutron degeneracy EOS at lower densities.\n",
    "\n",
    "We'll write this as:\n",
    "\n",
    "$$P = \\left \\{ \\begin{array}{cc} K_0 \\rho^{\\gamma_0} & \\mbox{if } \\rho < \\rho_{tr} \\\\\n",
    "                                 K_1 \\rho^{\\gamma_1} & \\mbox{otherwise} \\end{array} \\right .$$\n",
    "\n",
    "We'll take $K_0$, $\\gamma_0$ to be the non-relativitic neutron degeneracy parameters, $\\gamma_0 = 5/3$\n",
    "and\n",
    "\n",
    "$$K_0 = \\frac{h^2}{20} \\left ( \\frac{3}{\\pi} \\right )^{2/3} \\frac{1}{m_u^{8/3}}$$\n",
    "\n",
    "For the transition density, we will take $x_F = 1/2$, which gives\n",
    "\n",
    "$$\\frac{\\rho}{m_u} = \\frac{8\\pi}{3} \\left (\\frac{m_u c}{h} \\right )^3 x_F^3$$\n",
    "\n",
    "We'll take $\\gamma_1 = 2.5$ as above\n",
    "\n",
    "Let's evaluate these"
   ]
  },
  {
   "cell_type": "code",
   "execution_count": 15,
   "id": "25a9dcbf-de6b-4fa3-8149-d14047f78ed7",
   "metadata": {
    "tags": []
   },
   "outputs": [],
   "source": [
    "gamma_0 = 5./3.\n",
    "gamma_1 = 10"
   ]
  },
  {
   "cell_type": "code",
   "execution_count": 16,
   "id": "e95d9072-01dd-40ee-8273-4f4179d10990",
   "metadata": {
    "tags": []
   },
   "outputs": [
    {
     "data": {
      "text/plain": [
       "736688938797371.4"
      ]
     },
     "execution_count": 16,
     "metadata": {},
     "output_type": "execute_result"
    }
   ],
   "source": [
    "rho_tr = m_u * (8 * np.pi / 3) * (m_u * c / h)**3 * (1/2)**3\n",
    "rho_tr"
   ]
  },
  {
   "cell_type": "code",
   "execution_count": 17,
   "id": "74cfc19c-ee12-4dfe-b166-6e5ad51f9dac",
   "metadata": {
    "tags": []
   },
   "outputs": [
    {
     "data": {
      "text/plain": [
       "5516831857.874235"
      ]
     },
     "execution_count": 17,
     "metadata": {},
     "output_type": "execute_result"
    }
   ],
   "source": [
    "K0 = h**2/20 * (3/np.pi)**(2/3) / m_u**(8/3)\n",
    "K0"
   ]
  },
  {
   "cell_type": "code",
   "execution_count": 18,
   "id": "b8b2dcd5-74f7-4ba6-b54a-ddffbd9a159f",
   "metadata": {
    "tags": []
   },
   "outputs": [
    {
     "data": {
      "text/plain": [
       "7.041337677911962e-115"
      ]
     },
     "execution_count": 18,
     "metadata": {},
     "output_type": "execute_result"
    }
   ],
   "source": [
    "K1 = K0 * rho_tr**(gamma_0 - gamma_1)\n",
    "K1"
   ]
  },
  {
   "cell_type": "markdown",
   "id": "1b2711bb-a730-4cca-988a-4e91b646b2cd",
   "metadata": {},
   "source": [
    "That gives a transition density of $\\sim 7\\times 10^{14}~\\mathrm{g~cm^{-3}}$"
   ]
  },
  {
   "cell_type": "code",
   "execution_count": 19,
   "id": "399572c6-f633-42bd-8fc0-eabc25f10522",
   "metadata": {
    "tags": []
   },
   "outputs": [],
   "source": [
    "def pres_blend(rho):\n",
    "    if rho < rho_tr:\n",
    "        return K0 * rho**gamma_0\n",
    "    return K1 * rho**gamma_1\n",
    "\n",
    "def rho_blend(pres):\n",
    "    P_tr = K0 * rho_tr**gamma_0\n",
    "    \n",
    "    if pres < P_tr:\n",
    "        return (pres / K0)**(1/gamma_0)\n",
    "    return (pres / K1)**(1/gamma_1)"
   ]
  },
  {
   "cell_type": "code",
   "execution_count": 20,
   "id": "0116d43e-44d5-44a4-9170-f7d48c3295b1",
   "metadata": {
    "tags": []
   },
   "outputs": [
    {
     "name": "stdout",
     "output_type": "stream",
     "text": [
      "100000000000000.0\n",
      "111419138419584.4\n",
      "124142244061624.6\n",
      "138318218748199.81\n",
      "154112967606560.3\n",
      "171711340700082.0\n",
      "191319296376748.56\n",
      "213166311653384.4\n",
      "237508067845006.1\n",
      "264629442869907.8\n",
      "294847845250197.6\n",
      "328516928826478.4\n",
      "366030731660941.56\n",
      "407828287567522.06\n",
      "454398764239076.25\n",
      "506287188104417.44\n",
      "564100822914682.5\n",
      "628516276709322.2\n",
      "700287420336378.0\n",
      "780254210199525.9\n",
      "869352518486841.2\n",
      "968625085926996.9\n",
      "1079233725255819.0\n",
      "1202472918213613.5\n",
      "1339784965202442.0\n",
      "1492776864903689.8\n",
      "1663239121402574.5\n",
      "1853166698924206.5\n",
      "2064782369420004.8\n",
      "2300562726247240.5\n",
      "2563267168386777.5\n",
      "2855970194408625.5\n",
      "3182097384130220.5\n",
      "3545465489070010.5\n",
      "3950327100885510.0\n",
      "4401420420561964.5\n",
      "4904024710813789.0\n",
      "5464022080672240.0\n",
      "6087966325340859.0\n",
      "6783159626969191.0\n",
      "7557738013994168.0\n",
      "8420766579201678.0\n",
      "9382345570870820.0\n",
      "1.0453728598612306e+16\n",
      "1.1647454337295528e+16\n",
      "1.2977493270429192e+16\n",
      "1.4459411190371634e+16\n",
      "1.611055136885705e+16\n",
      "1.7950237529825086e+16\n",
      "2.0000000000000004e+16\n"
     ]
    }
   ],
   "source": [
    "ns4 = Integrator(rhs_tov, rhs_args=[rho_blend],\n",
    "                 stop_cond=[(\"LT\", 0.0), (\"LT\", 0.0)])\n",
    "\n",
    "R_max = 5.e6\n",
    "N = 250\n",
    "\n",
    "# my vector is [m, p]\n",
    "mass = []\n",
    "radius = []\n",
    "for rhoc in np.logspace(np.log10(1.e14), np.log10(2.e16), 100):\n",
    "    Pc = pres_blend(rhoc)\n",
    "\n",
    "    sol = ns4.integrate([0.0, Pc], R_max/N, R_max)\n",
    "\n",
    "    mass.append(sol[\"y0\"][-1]/2.e33)\n",
    "    radius.append(sol[\"x\"][-1]/1.e5)"
   ]
  },
  {
   "cell_type": "code",
   "execution_count": 21,
   "id": "004ab5f2-4da5-4c4f-a2b4-b23a56a4d6bb",
   "metadata": {
    "tags": []
   },
   "outputs": [
    {
     "data": {
      "text/plain": [
       "Text(0, 0.5, '$M$ [$M_\\\\odot$]')"
      ]
     },
     "execution_count": 21,
     "metadata": {},
     "output_type": "execute_result"
    },
    {
     "data": {
      "image/png": "[encoded data removed]",
      "text/plain": [
       "<Figure size 640x480 with 1 Axes>"
      ]
     },
     "metadata": {},
     "output_type": "display_data"
    }
   ],
   "source": [
    "fig, ax = plt.subplots()\n",
    "\n",
    "ax.plot(radius, mass)\n",
    "ax.set_xlabel(\"$R$ [km]\")\n",
    "ax.set_ylabel(r\"$M$ [$M_\\odot$]\")"
   ]
  }
 ],
 "metadata": {
  "kernelspec": {
   "display_name": "Python 3 (ipykernel)",
   "language": "python",
   "name": "python3"
  },
  "language_info": {
   "codemirror_mode": {
    "name": "ipython",
    "version": 3
   },
   "file_extension": ".py",
   "mimetype": "text/x-python",
   "name": "python",
   "nbconvert_exporter": "python",
   "pygments_lexer": "ipython3",
   "version": "3.12.7"
  }
 },
 "nbformat": 4,
 "nbformat_minor": 5
}
