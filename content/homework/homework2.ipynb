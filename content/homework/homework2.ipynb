{
 "cells": [
  {
   "cell_type": "markdown",
   "id": "a779a0e2-47a6-4a2e-9a62-d5961caa2ee9",
   "metadata": {},
   "source": [
    "# Homework #2"
   ]
  },
  {
   "cell_type": "markdown",
   "id": "c44e82d9-1861-4cb0-b9c6-e61b10a3e5aa",
   "metadata": {},
   "source": [
    "## 1. Solid or Gas Earth?\n",
    "\n",
    "In class, we defined the quantity:\n",
    "\n",
    "$$\\Gamma = \\frac{E_\\mathrm{Coul}}{kT}$$\n",
    "\n",
    "as a measure of the importance of the Coulomb energy to the thermal energy.  If $\\Gamma \\gg 1$, then we are a solid.  We got the separation between nuclei from the number density and the temperature from the Virial theorem and got:\n",
    "\n",
    "$$\\Gamma = \\frac{Z^2 e^2}{A^{4/3} m_u^{4/3} G M^{2/3}}$$\n",
    "\n",
    "Now for the earth, we can take $A$ and $Z$ to just be for iron"
   ]
  },
  {
   "cell_type": "code",
   "execution_count": 1,
   "id": "39a3b18e-755d-4957-ac91-85ab8feb11c8",
   "metadata": {},
   "outputs": [],
   "source": [
    "A = 56\n",
    "Z = 26"
   ]
  },
  {
   "cell_type": "markdown",
   "id": "0aaee99a-831f-4e9a-aa50-782dbcd92665",
   "metadata": {},
   "source": [
    "For the constants, we'll use a library, `unyt` to get them along with the units"
   ]
  },
  {
   "cell_type": "code",
   "execution_count": 2,
   "id": "68fe2938-f9e8-488f-b2b7-430b17043de7",
   "metadata": {},
   "outputs": [],
   "source": [
    "import unyt"
   ]
  },
  {
   "cell_type": "code",
   "execution_count": 3,
   "id": "5bb47a3f-f111-4584-b21e-b750fa38c648",
   "metadata": {},
   "outputs": [],
   "source": [
    "e = unyt.qe.in_cgs()\n",
    "m_u = (1.0 * unyt.amu).in_cgs()\n",
    "G = unyt.G.in_cgs()\n",
    "M = unyt.Mearth.in_cgs()"
   ]
  },
  {
   "cell_type": "markdown",
   "id": "655fd593-54e8-4b6d-a3ed-c81693e2c52d",
   "metadata": {},
   "source": [
    "Notice that these all have units"
   ]
  },
  {
   "cell_type": "code",
   "execution_count": 4,
   "id": "f0785939-ecb2-42a0-bd38-74e5c1dc0477",
   "metadata": {},
   "outputs": [
    {
     "data": {
      "text/plain": [
       "unyt_quantity(1.66053892e-24, 'g')"
      ]
     },
     "execution_count": 4,
     "metadata": {},
     "output_type": "execute_result"
    }
   ],
   "source": [
    "m_u"
   ]
  },
  {
   "cell_type": "code",
   "execution_count": 5,
   "id": "3018d218-7185-4dab-9298-e2530145e977",
   "metadata": {},
   "outputs": [
    {
     "data": {
      "text/plain": [
       "unyt_quantity(-4.80320467e-10, 'statC')"
      ]
     },
     "execution_count": 5,
     "metadata": {},
     "output_type": "execute_result"
    }
   ],
   "source": [
    "e"
   ]
  },
  {
   "cell_type": "code",
   "execution_count": 6,
   "id": "333d042f-f0f2-4ab8-b7e2-c58aa7f6f271",
   "metadata": {},
   "outputs": [
    {
     "data": {
      "text/plain": [
       "unyt_quantity(167.13713567, '(dimensionless)')"
      ]
     },
     "execution_count": 6,
     "metadata": {},
     "output_type": "execute_result"
    }
   ],
   "source": [
    "gamma = (Z * e)**2 / ((A * m_u)**(4./3.) * G * M**(2./3.))\n",
    "gamma"
   ]
  },
  {
   "cell_type": "markdown",
   "id": "1fdb7471-c86d-4d15-8a77-34fbfac254c9",
   "metadata": {},
   "source": [
    "So this tells us that gamma is dimensionless!\n",
    "\n",
    "$$\\Gamma = 167$$"
   ]
  },
  {
   "cell_type": "markdown",
   "id": "78c36f06-32ee-4ed2-abd7-0f64190cce62",
   "metadata": {},
   "source": [
    "Now, really that we need to be careful with Coulomb's law and units.  In CGS, the energy is:\n",
    "\n",
    "$$E_\\mathrm{Coul} = \\frac{q_1 q_2}{r}$$\n",
    "\n",
    "but in SI, it is:\n",
    "\n",
    "$$E_\\mathrm{Coul} = \\frac{1}{4\\pi \\epsilon_0} \\frac{q_1 q_2}{r}$$"
   ]
  },
  {
   "cell_type": "markdown",
   "id": "b0b3f126-df58-4b04-acd3-e8d5b7d4aa79",
   "metadata": {},
   "source": [
    "Let's redo that calculation but using SI units:"
   ]
  },
  {
   "cell_type": "code",
   "execution_count": 7,
   "id": "ef3627ab-55a7-459b-89e4-e28e00fec99a",
   "metadata": {},
   "outputs": [],
   "source": [
    "e = unyt.qe\n",
    "m_u = 1 *unyt.amu\n",
    "G = unyt.G\n",
    "M = unyt.Mearth"
   ]
  },
  {
   "cell_type": "code",
   "execution_count": 8,
   "id": "fd1e7bd7-a761-4457-8f1c-1e39fa511fd9",
   "metadata": {},
   "outputs": [
    {
     "data": {
      "text/plain": [
       "unyt_quantity(2.20215509e-17, 'C**2*s**2/(amu**(1/3)*kg**(2/3)*m**3)')"
      ]
     },
     "execution_count": 8,
     "metadata": {},
     "output_type": "execute_result"
    }
   ],
   "source": [
    "gamma = (Z * e)**2 / ((A * m_u)**(4./3.) * G * M**(2./3.))\n",
    "gamma"
   ]
  },
  {
   "cell_type": "markdown",
   "id": "43270541-8b9c-4175-888f-8a32d05efd73",
   "metadata": {},
   "source": [
    "Notice that the units don't work now!  Let's add in the $1/(4\\pi \\epsilon_0)$"
   ]
  },
  {
   "cell_type": "code",
   "execution_count": 9,
   "id": "a238ee38-370e-47a6-b4aa-c1255f31c14f",
   "metadata": {},
   "outputs": [],
   "source": [
    "import math"
   ]
  },
  {
   "cell_type": "code",
   "execution_count": 10,
   "id": "a88cd50a-ae5e-4679-b7b3-1fc0893337f4",
   "metadata": {},
   "outputs": [],
   "source": [
    "eps0 = unyt.eps_0"
   ]
  },
  {
   "cell_type": "code",
   "execution_count": 11,
   "id": "d93b823a-dc1f-430d-9b6d-3564195c347d",
   "metadata": {},
   "outputs": [
    {
     "data": {
      "text/plain": [
       "unyt_quantity(167.13713567, '(dimensionless)')"
      ]
     },
     "execution_count": 11,
     "metadata": {},
     "output_type": "execute_result"
    }
   ],
   "source": [
    "gamma = (Z * e)**2 / ((A * m_u)**(4./3.) * G * M**(2./3.)) / (4 * math.pi * eps0)\n",
    "gamma"
   ]
  },
  {
   "cell_type": "markdown",
   "id": "0bdb4a25-b366-4d8b-8c90-8b6a62936d15",
   "metadata": {},
   "source": [
    "## 2. Ideal gas"
   ]
  },
  {
   "cell_type": "code",
   "execution_count": null,
   "id": "b2375ee5-8ef8-443f-9280-f2f58d838502",
   "metadata": {},
   "outputs": [],
   "source": [
    "from sympy import init_session\n",
    "init_session(use_latex=\"mathjax\")"
   ]
  },
  {
   "cell_type": "code",
   "execution_count": null,
   "id": "ab2e23f4-67d8-4a03-a38e-a0d384877d8f",
   "metadata": {},
   "outputs": [],
   "source": [
    "ni, m, k, T = symbols(\"n_I m k_B T\", real=True, positive=True)\n",
    "p, v = symbols(\"p v\", real=True)\n",
    "n_I = symbols(\"n_I\", real=True)\n",
    "g = symbols(\"g\", real=True, positive=True)\n",
    "h = symbols(\"h\", real=True, positive=True)\n",
    "E_0 = symbols(\"E_0\", real=True)\n",
    "mu = symbols(\"mu\", real=True)"
   ]
  },
  {
   "cell_type": "markdown",
   "id": "52ecfd7a-8294-481d-a422-761ef2b2b725",
   "metadata": {},
   "source": [
    "### a. Finding Maxwell\n",
    "\n",
    "We start with"
   ]
  },
  {
   "cell_type": "code",
   "execution_count": null,
   "id": "c437d58d-54ff-4efe-977d-9741a083e747",
   "metadata": {},
   "outputs": [],
   "source": [
    "n = 4 * pi * p**2 * g / h**3 * exp(mu/(k*T)) * exp(-E_0/(k*T)) * exp(-p**2/(2*m*k*T))\n",
    "n"
   ]
  },
  {
   "cell_type": "markdown",
   "id": "d3d3d9dc-4558-463d-b712-03d4fd6d68fa",
   "metadata": {},
   "source": [
    "now let's integrate over p"
   ]
  },
  {
   "cell_type": "code",
   "execution_count": null,
   "id": "9a3c3294-bc06-44d6-9dea-36fbb6cdfc7b",
   "metadata": {},
   "outputs": [],
   "source": [
    "n_I_int = integrate(n, (p, 0, oo))\n",
    "n_I_int"
   ]
  },
  {
   "cell_type": "markdown",
   "id": "ab4eff05-6bb8-426e-93cd-03594d1f4e06",
   "metadata": {},
   "source": [
    "This is equal to $n_I$.  We want to substitute this back into $n(p)$.  Let's solve for $g$ in terms of $n_I$\n",
    "and then use that as a way to substitute this back."
   ]
  },
  {
   "cell_type": "code",
   "execution_count": null,
   "id": "c20b09fb-1fa9-4018-903a-59c72a152278",
   "metadata": {},
   "outputs": [],
   "source": [
    "g_solve = solve(Eq(n_I_int, n_I), g)[0]"
   ]
  },
  {
   "cell_type": "code",
   "execution_count": null,
   "id": "83846549-8995-4575-9c9e-48658cc3e82d",
   "metadata": {},
   "outputs": [],
   "source": [
    "g_solve"
   ]
  },
  {
   "cell_type": "code",
   "execution_count": null,
   "id": "80e474f6-276a-414b-8a80-0b9a4be5953d",
   "metadata": {},
   "outputs": [],
   "source": [
    "n = simplify(n.subs(g, g_solve, strict=False))\n",
    "n"
   ]
  },
  {
   "cell_type": "markdown",
   "id": "a1e5c7cc-043d-4047-b868-6119018c7a19",
   "metadata": {},
   "source": [
    "Now we see that we have the normal Maxwell-Boltzmann distribution."
   ]
  },
  {
   "cell_type": "markdown",
   "id": "1a837472-a289-4a73-8bb5-bb827b4f37b5",
   "metadata": {},
   "source": [
    "### b. Ideal gas pressure\n",
    "\n",
    "The pressure integral is simply:\n",
    "\n",
    "$$P = \\frac{1}{3} \\int_0^\\infty n(p) v p dp$$\n",
    "\n",
    "with $v = p / m$."
   ]
  },
  {
   "cell_type": "code",
   "execution_count": null,
   "id": "9c9e521c-e375-4688-b938-d8c50d483c2d",
   "metadata": {},
   "outputs": [],
   "source": [
    "P = integrate(Rational(1, 3) * n * p**2 / m, (p, 0, oo))\n",
    "P"
   ]
  },
  {
   "cell_type": "markdown",
   "id": "5b8f111b-003f-416e-b469-65f3575be948",
   "metadata": {},
   "source": [
    "We see that we get the familiar ideal gas law!"
   ]
  },
  {
   "cell_type": "markdown",
   "id": "62e4f77d-7811-443b-bd22-f39cbc9d5fe8",
   "metadata": {},
   "source": [
    "## c. Energy\n",
    "\n",
    "The energy is:\n",
    "\n",
    "$$\\rho e = \\int_0^\\infty n(p) E(p) dp$$\n",
    "\n",
    "with $E(p) = p^2 / (2m)$"
   ]
  },
  {
   "cell_type": "code",
   "execution_count": null,
   "id": "ecb95f04-258b-4b7e-807f-be778cdb7c68",
   "metadata": {},
   "outputs": [],
   "source": [
    "rhoe = integrate(n * p**2 / (2 *m), (p, 0, oo))\n",
    "rhoe"
   ]
  },
  {
   "cell_type": "markdown",
   "id": "c44eadb7-37a4-410b-81c7-4b5ef3c440d4",
   "metadata": {},
   "source": [
    "So we see that this is $3/2 P$."
   ]
  }
 ],
 "metadata": {
  "kernelspec": {
   "display_name": "Python 3 (ipykernel)",
   "language": "python",
   "name": "python3"
  },
  "language_info": {
   "codemirror_mode": {
    "name": "ipython",
    "version": 3
   },
   "file_extension": ".py",
   "mimetype": "text/x-python",
   "name": "python",
   "nbconvert_exporter": "python",
   "pygments_lexer": "ipython3",
   "version": "3.12.7"
  }
 },
 "nbformat": 4,
 "nbformat_minor": 5
}
