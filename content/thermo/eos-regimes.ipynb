{
 "cells": [
  {
   "cell_type": "markdown",
   "id": "21354cb2-7e37-4f58-a4dd-26d7187ec7a4",
   "metadata": {},
   "source": [
    "# EOS regimes"
   ]
  },
  {
   "cell_type": "markdown",
   "id": "ce80bdfc-2eeb-4c3a-bf77-dd2664169968",
   "metadata": {},
   "source": [
    "We want to divide the $\\rho$-$T$ plane into regions based on which component of the pressure dominates."
   ]
  },
  {
   "cell_type": "code",
   "execution_count": 1,
   "id": "200f5688-3953-4fe9-a565-8d779054f72f",
   "metadata": {},
   "outputs": [],
   "source": [
    "import numpy as np\n",
    "import matplotlib.pyplot as plt"
   ]
  },
  {
   "cell_type": "markdown",
   "id": "6be0197b-9bf4-4884-abc0-f567388c7b2f",
   "metadata": {},
   "source": [
    "We need some physical constants (these are all in CGS units)"
   ]
  },
  {
   "cell_type": "code",
   "execution_count": 2,
   "id": "86c4eb69-4221-489e-a216-3e5b70f2b7f5",
   "metadata": {},
   "outputs": [],
   "source": [
    "k_B = 1.38e-16\n",
    "m_u = 1.66e-24\n",
    "m_e = 9.11e-28\n",
    "c = 3.e10\n",
    "h = 6.63e-27\n",
    "a = 5.67e-15"
   ]
  },
  {
   "cell_type": "markdown",
   "id": "459a258e-41fb-47ee-91c3-238b7daa0d80",
   "metadata": {},
   "source": [
    "The boundary between ideal gas and radiation is set as:\n",
    "\n",
    "$$\\frac{\\rho k T}{\\mu m_u} = \\frac{1}{3} a T^4$$\n",
    "\n",
    "at the temperatures where radiation matters, we can assume that the electrons behave as an ideal gas, so the $\\mu$ here is the total mean molecular weight.\n",
    "\n",
    "Notice that this gives a line of the form: $\\rho \\sim T^3$"
   ]
  },
  {
   "cell_type": "code",
   "execution_count": 3,
   "id": "ed3bbe9a-5f23-45b1-9a2d-ed879ae65f59",
   "metadata": {},
   "outputs": [],
   "source": [
    "def rho_ideal_rad(T, mu=0.6):\n",
    "    return a*T**3*mu*m_u/(3*k_B)"
   ]
  },
  {
   "cell_type": "markdown",
   "id": "057cd5fb-09d2-4c5f-8660-1a1536e1b27e",
   "metadata": {},
   "source": [
    "For non-relativisitic electron degeneracy, the boundary with the ideal gas is:\n",
    "\n",
    "$$\\frac{\\rho k T}{\\mu m_u} = \\frac{h^2}{20 m_e} \\left (\\frac{3}{\\pi} \\right )^{2/3} \\left ( \\frac{\\rho}{\\mu_e m_u} \\right)^{5/3}$$\n",
    "\n",
    "Notice that this gives a line of the form: $\\rho \\sim T^{3/2}$"
   ]
  },
  {
   "cell_type": "code",
   "execution_count": 4,
   "id": "d946aac1-6ef0-4ff1-920d-25321c5f39b6",
   "metadata": {},
   "outputs": [],
   "source": [
    "def rho_ideal_nr_deg(T, mu=0.6, mu_e=2.0):\n",
    "    return ((k_B*T/(mu*m_u)) / (h**2/(20*m_e)*(3/np.pi)**(2./3.) /\n",
    "                                (mu_e*m_u)**(5./3.)))**(3./2.)"
   ]
  },
  {
   "cell_type": "markdown",
   "id": "08d870de-feb6-443c-9303-d119db9f9cdc",
   "metadata": {},
   "source": [
    "For *relativisitic* electron degeneracy, the boundary with the ideal gas is:\n",
    "\n",
    "$$\\frac{\\rho k T}{\\mu m_u} = \\frac{hc}{8} \\left (\\frac{3}{\\pi} \\right )^{1/3} \\left ( \\frac{\\rho}{\\mu_e m_u} \\right)^{4/3}$$\n",
    "\n",
    "Notice that this gives a line of the form: $\\rho \\sim T^3$"
   ]
  },
  {
   "cell_type": "code",
   "execution_count": 5,
   "id": "02f85796-f9b2-44f7-8e8e-ae8b33dd9ae1",
   "metadata": {},
   "outputs": [],
   "source": [
    "def rho_ideal_rel_deg(T, mu=0.6, mu_e=2.0):\n",
    "    return ((k_B*T/(mu*m_u)) / (h*c/8 * (3/np.pi)**(1./3.) /\n",
    "                                (mu_e*m_u)**(4./3.)))**3"
   ]
  },
  {
   "cell_type": "markdown",
   "id": "0bb3ffa2-8b45-48a4-944d-f6205c4ab993",
   "metadata": {},
   "source": [
    "Finally, we can determine when non-relativistic vs. relativistic degeneracy is important as:\n",
    "\n",
    "$$P_{e,\\mathrm{NR}} = P_{e,\\mathrm{rel}}$$\n",
    "\n",
    "This is just a density (with no temperature dependence)."
   ]
  },
  {
   "cell_type": "code",
   "execution_count": 11,
   "id": "0f5d3e52-e113-41df-b9bf-789b9c2c51f0",
   "metadata": {},
   "outputs": [],
   "source": [
    "def rho_rel_nr(mu_e=2.0):\n",
    "    return (20*m_e*c/(8*h) * (np.pi/3)**(1./3.) * (mu_e * m_u)**(1./3.))**3"
   ]
  },
  {
   "cell_type": "markdown",
   "id": "712c931f-abc2-4fd0-913a-e46920633837",
   "metadata": {},
   "source": [
    "Now we can plot it."
   ]
  },
  {
   "cell_type": "code",
   "execution_count": 14,
   "id": "9d911e0a-b483-4d3f-8fe6-0b44120607ef",
   "metadata": {},
   "outputs": [
    {
     "data": {
      "text/plain": [
       "Text(0, 0.5, '$\\\\rho (\\\\mathrm{g/cm^3})$')"
      ]
     },
     "execution_count": 14,
     "metadata": {},
     "output_type": "execute_result"
    },
    {
     "data": {
      "image/png": "[encoded data removed]",
      "text/plain": [
       "<Figure size 640x480 with 1 Axes>"
      ]
     },
     "metadata": {},
     "output_type": "display_data"
    }
   ],
   "source": [
    "fig, ax = plt.subplots()\n",
    "\n",
    "T_min = 10.0\n",
    "T_max = 1.e10\n",
    "T = np.logspace(np.log10(T_min), np.log10(T_max), 200)\n",
    "\n",
    "rho_transition = rho_rel_nr()\n",
    "\n",
    "ax.loglog(T, rho_ideal_rad(T))\n",
    "\n",
    "rho_nr = rho_ideal_nr_deg(T)\n",
    "ax.loglog(T[rho_nr <= rho_transition], rho_nr[rho_nr <= rho_transition])\n",
    "rho_rel = rho_ideal_rel_deg(T)\n",
    "ax.loglog(T[rho_rel >= rho_transition], rho_rel[rho_rel >= rho_transition])\n",
    "\n",
    "ax.loglog([T_min, T_max], [rho_transition, rho_transition], ls=\":\", color=\"0.5\")\n",
    "\n",
    "# plot the sun\n",
    "T_sun = 1.5e7\n",
    "rho_sun = 150\n",
    "ax.scatter([T_sun], [rho_sun], marker=r\"$\\odot$\", color=\"k\")\n",
    "\n",
    "ax.set_ylim(1.e-4, 1.e10)\n",
    "ax.set_xlabel(r\"$T (\\mathrm{K})$\")\n",
    "ax.set_ylabel(r\"$\\rho (\\mathrm{g/cm^3})$\")"
   ]
  },
  {
   "cell_type": "markdown",
   "id": "8f90f754-367f-4cce-8582-1782c6c9d7a3",
   "metadata": {},
   "source": [
    "We see the following:\n",
    "\n",
    "* at low density and high temperature, radiation dominates\n",
    "* at high density and low to moderate temperatures, degeneracy dominates\n",
    "* the Sun is located in the region where the ideal gas is dominant"
   ]
  }
 ],
 "metadata": {
  "kernelspec": {
   "display_name": "Python 3 (ipykernel)",
   "language": "python",
   "name": "python3"
  },
  "language_info": {
   "codemirror_mode": {
    "name": "ipython",
    "version": 3
   },
   "file_extension": ".py",
   "mimetype": "text/x-python",
   "name": "python",
   "nbconvert_exporter": "python",
   "pygments_lexer": "ipython3",
   "version": "3.12.6"
  }
 },
 "nbformat": 4,
 "nbformat_minor": 5
}
